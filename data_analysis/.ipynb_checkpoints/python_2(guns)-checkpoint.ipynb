{
 "cells": [
  {
   "cell_type": "code",
   "execution_count": 1,
   "metadata": {},
   "outputs": [
    {
     "name": "stdout",
     "output_type": "stream",
     "text": [
      "[['', 'year', 'month', 'intent', 'police', 'sex', 'age', 'race', 'hispanic', 'place', 'education'], ['1', '2012', '01', 'Suicide', '0', 'M', '34', 'Asian/Pacific Islander', '100', 'Home', 'BA+'], ['2', '2012', '01', 'Suicide', '0', 'F', '21', 'White', '100', 'Street', 'Some college'], ['3', '2012', '01', 'Suicide', '0', 'M', '60', 'White', '100', 'Other specified', 'BA+'], ['4', '2012', '02', 'Suicide', '0', 'M', '64', 'White', '100', 'Home', 'BA+']]\n"
     ]
    }
   ],
   "source": [
    "import csv\n",
    "\n",
    "# Reading the data file\n",
    "f = open('guns.csv', 'r')\n",
    "data = list(csv.reader(f))\n",
    "print(data[:5])"
   ]
  },
  {
   "cell_type": "code",
   "execution_count": 2,
   "metadata": {},
   "outputs": [
    {
     "name": "stdout",
     "output_type": "stream",
     "text": [
      "['', 'year', 'month', 'intent', 'police', 'sex', 'age', 'race', 'hispanic', 'place', 'education']\n",
      "[['1', '2012', '01', 'Suicide', '0', 'M', '34', 'Asian/Pacific Islander', '100', 'Home', 'BA+'], ['2', '2012', '01', 'Suicide', '0', 'F', '21', 'White', '100', 'Street', 'Some college'], ['3', '2012', '01', 'Suicide', '0', 'M', '60', 'White', '100', 'Other specified', 'BA+'], ['4', '2012', '02', 'Suicide', '0', 'M', '64', 'White', '100', 'Home', 'BA+'], ['5', '2012', '02', 'Suicide', '0', 'M', '31', 'White', '100', 'Other specified', 'HS/GED']]\n"
     ]
    }
   ],
   "source": [
    "#seperating the header and data\n",
    "headers = data.pop(0)\n",
    "print(headers)\n",
    "print(data[:5])"
   ]
  },
  {
   "cell_type": "markdown",
   "metadata": {},
   "source": [
    "## General information about the columns of the data\n",
    "year -- the year in which the fatality occurred.\n",
    "\n",
    "month -- the month in which the fatality occurred.\n",
    "\n",
    "intent -- the intent of the perpetrator of the crime. This can be Suicide, Accidental, NA, Homicide, or Undetermined.\n",
    "\n",
    "police -- whether a police officer was involved with the shooting. Either 0 (false) or 1 (true).\n",
    "\n",
    "sex -- the gender of the victim. Either M or F.\n",
    "\n",
    "age -- the age of the victim.\n",
    "\n",
    "race -- the race of the victim. Either Asian/Pacific Islander, Native American/Native Alaskan, Black, Hispanic, or White.\n",
    "\n",
    "hispanic -- a code indicating the Hispanic origin of the victim.\n",
    "\n",
    "place -- where the shooting occurred. Has several categories, which you're encouraged to explore on your own.\n",
    "\n",
    "education -- educational status of the victim."
   ]
  },
  {
   "cell_type": "code",
   "execution_count": null,
   "metadata": {},
   "outputs": [],
   "source": []
  },
  {
   "cell_type": "code",
   "execution_count": 3,
   "metadata": {},
   "outputs": [
    {
     "data": {
      "text/plain": [
       "{'age': ['0',\n",
       "  '1',\n",
       "  '10',\n",
       "  '100',\n",
       "  '101',\n",
       "  '102',\n",
       "  '107',\n",
       "  '11',\n",
       "  '12',\n",
       "  '13',\n",
       "  '14',\n",
       "  '15',\n",
       "  '16',\n",
       "  '17',\n",
       "  '18',\n",
       "  '19',\n",
       "  '2',\n",
       "  '20',\n",
       "  '21',\n",
       "  '22',\n",
       "  '23',\n",
       "  '24',\n",
       "  '25',\n",
       "  '26',\n",
       "  '27',\n",
       "  '28',\n",
       "  '29',\n",
       "  '3',\n",
       "  '30',\n",
       "  '31',\n",
       "  '32',\n",
       "  '33',\n",
       "  '34',\n",
       "  '35',\n",
       "  '36',\n",
       "  '37',\n",
       "  '38',\n",
       "  '39',\n",
       "  '4',\n",
       "  '40',\n",
       "  '41',\n",
       "  '42',\n",
       "  '43',\n",
       "  '44',\n",
       "  '45',\n",
       "  '46',\n",
       "  '47',\n",
       "  '48',\n",
       "  '49',\n",
       "  '5',\n",
       "  '50',\n",
       "  '51',\n",
       "  '52',\n",
       "  '53',\n",
       "  '54',\n",
       "  '55',\n",
       "  '56',\n",
       "  '57',\n",
       "  '58',\n",
       "  '59',\n",
       "  '6',\n",
       "  '60',\n",
       "  '61',\n",
       "  '62',\n",
       "  '63',\n",
       "  '64',\n",
       "  '65',\n",
       "  '66',\n",
       "  '67',\n",
       "  '68',\n",
       "  '69',\n",
       "  '7',\n",
       "  '70',\n",
       "  '71',\n",
       "  '72',\n",
       "  '73',\n",
       "  '74',\n",
       "  '75',\n",
       "  '76',\n",
       "  '77',\n",
       "  '78',\n",
       "  '79',\n",
       "  '8',\n",
       "  '80',\n",
       "  '81',\n",
       "  '82',\n",
       "  '83',\n",
       "  '84',\n",
       "  '85',\n",
       "  '86',\n",
       "  '87',\n",
       "  '88',\n",
       "  '89',\n",
       "  '9',\n",
       "  '90',\n",
       "  '91',\n",
       "  '92',\n",
       "  '93',\n",
       "  '94',\n",
       "  '95',\n",
       "  '96',\n",
       "  '97',\n",
       "  '98',\n",
       "  '99',\n",
       "  'NA'],\n",
       " 'education': ['BA+', 'HS/GED', 'Less than HS', 'NA', 'Some college'],\n",
       " 'hispanic': ['100',\n",
       "  '200',\n",
       "  '209',\n",
       "  '210',\n",
       "  '211',\n",
       "  '212',\n",
       "  '217',\n",
       "  '218',\n",
       "  '220',\n",
       "  '221',\n",
       "  '222',\n",
       "  '223',\n",
       "  '224',\n",
       "  '225',\n",
       "  '226',\n",
       "  '227',\n",
       "  '231',\n",
       "  '232',\n",
       "  '233',\n",
       "  '234',\n",
       "  '235',\n",
       "  '237',\n",
       "  '238',\n",
       "  '239',\n",
       "  '242',\n",
       "  '250',\n",
       "  '252',\n",
       "  '260',\n",
       "  '261',\n",
       "  '270',\n",
       "  '271',\n",
       "  '275',\n",
       "  '280',\n",
       "  '281',\n",
       "  '282',\n",
       "  '286',\n",
       "  '291',\n",
       "  '299',\n",
       "  '998'],\n",
       " 'intent': ['Accidental', 'Homicide', 'NA', 'Suicide', 'Undetermined'],\n",
       " 'month': ['01',\n",
       "  '02',\n",
       "  '03',\n",
       "  '04',\n",
       "  '05',\n",
       "  '06',\n",
       "  '07',\n",
       "  '08',\n",
       "  '09',\n",
       "  '10',\n",
       "  '11',\n",
       "  '12'],\n",
       " 'place': ['Farm',\n",
       "  'Home',\n",
       "  'Industrial/construction',\n",
       "  'NA',\n",
       "  'Other specified',\n",
       "  'Other unspecified',\n",
       "  'Residential institution',\n",
       "  'School/instiution',\n",
       "  'Sports',\n",
       "  'Street',\n",
       "  'Trade/service area'],\n",
       " 'police': ['0', '1'],\n",
       " 'race': ['Asian/Pacific Islander',\n",
       "  'Black',\n",
       "  'Hispanic',\n",
       "  'Native American/Native Alaskan',\n",
       "  'White'],\n",
       " 'sex': ['F', 'M'],\n",
       " 'year': ['2012', '2013', '2014']}"
      ]
     },
     "execution_count": 3,
     "metadata": {},
     "output_type": "execute_result"
    }
   ],
   "source": [
    "# Looking through the data, and find what kind of values are inside each column\n",
    "# Create a set() type for each row of the data\n",
    "list_of_elements_of_columns = []\n",
    "elements_of_columns_dict = {}\n",
    "for i in range(1, len(data[1])):\n",
    "    set_elements = set([row[i] for row in data])\n",
    "    list_of_elements_of_columns.append(set_elements)\n",
    "\n",
    "for index, value in enumerate(list_of_elements_of_columns):\n",
    "    elements_of_columns_dict[headers[index + 1]] = sorted(list(value))\n",
    "    \n",
    "elements_of_columns_dict"
   ]
  },
  {
   "cell_type": "markdown",
   "metadata": {},
   "source": [
    "## Things that are shown inside the data\n",
    "1. The age of the victoms are really various starting from 1 to 107.\n",
    "    - The ratio of the victims age needs to be discovered.\n",
    "    - Relationship between the places and age\n",
    "    - Relationship between the age and intent\n",
    "2. The education level is also every where, from Less than HS, to BA+\n",
    "3. There were 4 kinds of gun shots(Accident, Homicide, Suicide, and Undeterminded)\n",
    "4. Years and month did not have any skiping. \n",
    "5. \n",
    "    \n"
   ]
  },
  {
   "cell_type": "markdown",
   "metadata": {},
   "source": [
    "## Basic Practice"
   ]
  },
  {
   "cell_type": "code",
   "execution_count": 4,
   "metadata": {},
   "outputs": [],
   "source": [
    "# Make a counter that is able to count every index\n",
    "def counter(input_list, index):\n",
    "    values_of_index = [i[index] for i in input_list]\n",
    "    result = {}\n",
    "    for i in values_of_index:\n",
    "        if i in result:\n",
    "            result[i] += 1\n",
    "        else:\n",
    "            result[i] = 1\n",
    "    return result"
   ]
  },
  {
   "cell_type": "code",
   "execution_count": 5,
   "metadata": {},
   "outputs": [
    {
     "data": {
      "text/plain": [
       "{'2012': 33563, '2013': 33636, '2014': 33599}"
      ]
     },
     "execution_count": 5,
     "metadata": {},
     "output_type": "execute_result"
    }
   ],
   "source": [
    "# See the gun death of each year\n",
    "year_counts = counter(data, 1)\n",
    "year_counts"
   ]
  },
  {
   "cell_type": "code",
   "execution_count": 6,
   "metadata": {},
   "outputs": [
    {
     "data": {
      "text/plain": [
       "{datetime.datetime(2012, 1, 1, 0, 0): 2758,\n",
       " datetime.datetime(2012, 2, 1, 0, 0): 2357,\n",
       " datetime.datetime(2012, 3, 1, 0, 0): 2743,\n",
       " datetime.datetime(2012, 4, 1, 0, 0): 2795,\n",
       " datetime.datetime(2012, 5, 1, 0, 0): 2999,\n",
       " datetime.datetime(2012, 6, 1, 0, 0): 2826,\n",
       " datetime.datetime(2012, 7, 1, 0, 0): 3026,\n",
       " datetime.datetime(2012, 8, 1, 0, 0): 2954,\n",
       " datetime.datetime(2012, 9, 1, 0, 0): 2852,\n",
       " datetime.datetime(2012, 10, 1, 0, 0): 2733,\n",
       " datetime.datetime(2012, 11, 1, 0, 0): 2729,\n",
       " datetime.datetime(2012, 12, 1, 0, 0): 2791,\n",
       " datetime.datetime(2013, 1, 1, 0, 0): 2864,\n",
       " datetime.datetime(2013, 2, 1, 0, 0): 2375,\n",
       " datetime.datetime(2013, 3, 1, 0, 0): 2862,\n",
       " datetime.datetime(2013, 4, 1, 0, 0): 2798,\n",
       " datetime.datetime(2013, 5, 1, 0, 0): 2806,\n",
       " datetime.datetime(2013, 6, 1, 0, 0): 2920,\n",
       " datetime.datetime(2013, 7, 1, 0, 0): 3079,\n",
       " datetime.datetime(2013, 8, 1, 0, 0): 2859,\n",
       " datetime.datetime(2013, 9, 1, 0, 0): 2742,\n",
       " datetime.datetime(2013, 10, 1, 0, 0): 2808,\n",
       " datetime.datetime(2013, 11, 1, 0, 0): 2758,\n",
       " datetime.datetime(2013, 12, 1, 0, 0): 2765,\n",
       " datetime.datetime(2014, 1, 1, 0, 0): 2651,\n",
       " datetime.datetime(2014, 2, 1, 0, 0): 2361,\n",
       " datetime.datetime(2014, 3, 1, 0, 0): 2684,\n",
       " datetime.datetime(2014, 4, 1, 0, 0): 2862,\n",
       " datetime.datetime(2014, 5, 1, 0, 0): 2864,\n",
       " datetime.datetime(2014, 6, 1, 0, 0): 2931,\n",
       " datetime.datetime(2014, 7, 1, 0, 0): 2884,\n",
       " datetime.datetime(2014, 8, 1, 0, 0): 2970,\n",
       " datetime.datetime(2014, 9, 1, 0, 0): 2914,\n",
       " datetime.datetime(2014, 10, 1, 0, 0): 2865,\n",
       " datetime.datetime(2014, 11, 1, 0, 0): 2756,\n",
       " datetime.datetime(2014, 12, 1, 0, 0): 2857}"
      ]
     },
     "execution_count": 6,
     "metadata": {},
     "output_type": "execute_result"
    }
   ],
   "source": [
    "# See the gun death of each month\n",
    "import datetime\n",
    "\n",
    "date_counts = {}\n",
    "\n",
    "for i in data:\n",
    "    input_year = int(i[1])\n",
    "    input_month = int(i[2])\n",
    "    date = datetime.datetime(year=input_year, month=input_month, \n",
    "                            day=1)\n",
    "    if date in date_counts:\n",
    "        date_counts[date] += 1\n",
    "    else:\n",
    "        date_counts[date] = 1\n",
    "\n",
    "date_counts"
   ]
  },
  {
   "cell_type": "code",
   "execution_count": 8,
   "metadata": {},
   "outputs": [
    {
     "name": "stdout",
     "output_type": "stream",
     "text": [
      "{'M': 86349, 'F': 14449}\n"
     ]
    },
    {
     "data": {
      "text/plain": [
       "{'Asian/Pacific Islander': 1326,\n",
       " 'Black': 23296,\n",
       " 'Hispanic': 9022,\n",
       " 'Native American/Native Alaskan': 917,\n",
       " 'White': 66237}"
      ]
     },
     "execution_count": 8,
     "metadata": {},
     "output_type": "execute_result"
    }
   ],
   "source": [
    "# Count sex and race by using the function\n",
    "\n",
    "sex_counts = counter(data, 5)\n",
    "race_counts = counter(data, 7)\n",
    "\n",
    "print(sex_counts)\n",
    "race_counts"
   ]
  },
  {
   "cell_type": "code",
   "execution_count": 9,
   "metadata": {},
   "outputs": [
    {
     "name": "stdout",
     "output_type": "stream",
     "text": [
      "[['Race Alone - White', 'Race Alone - Hispanic', 'Race Alone - Black or African American', 'Race Alone - American Indian and Alaska Native', 'Race Alone - Asian', 'Race Alone - Native Hawaiian and Other Pacific Islander'], ['197318956', '44618105', '40250635', '3739506', '15159516', '674625']]\n"
     ]
    }
   ],
   "source": [
    "# Get the data of persentage of the race in the states\n",
    "f = open('census.csv', 'r')\n",
    "census = list(csv.reader(f))\n",
    "print(census)"
   ]
  },
  {
   "cell_type": "code",
   "execution_count": 10,
   "metadata": {},
   "outputs": [
    {
     "name": "stdout",
     "output_type": "stream",
     "text": [
      "[['Race Alone - White', 'Race Alone - Hispanic', 'Race Alone - Black or African American', 'Race Alone - American Indian and Alaska Native', 'Race Alone - Asian', 'Race Alone - Native Hawaiian and Other Pacific Islander'], ['197318956', '44618105', '40250635', '3739506', '15159516', '674625']]\n"
     ]
    }
   ],
   "source": [
    "new_census = []\n",
    "for i in census:\n",
    "    new_census.append(i)\n",
    "print(new_census)"
   ]
  },
  {
   "cell_type": "code",
   "execution_count": 11,
   "metadata": {},
   "outputs": [
    {
     "data": {
      "text/plain": [
       "{'Asian/Pacific Islander': 8.374309664161763e-05,\n",
       " 'Black': 0.000578773477735196,\n",
       " 'Hispanic': 0.00020220491210910907,\n",
       " 'Native American/Native Alaskan': 0.0002452195557381109,\n",
       " 'White': 0.0003356849303419181}"
      ]
     },
     "execution_count": 11,
     "metadata": {},
     "output_type": "execute_result"
    }
   ],
   "source": [
    "pre_counts = {}\n",
    "\n",
    "pre_counts['Asian/Pacific Islander'] = ((race_counts['Asian/Pacific Islander']) / sum([int(new_census[1][-1]), int(new_census[1][-2])]))\n",
    "pre_counts['Black'] = race_counts['Black'] / int(new_census[1][2])\n",
    "pre_counts['Hispanic'] = race_counts['Hispanic'] / int(new_census[1][1])\n",
    "pre_counts['Native American/Native Alaskan'] = race_counts['Native American/Native Alaskan'] / int(new_census[1][3])\n",
    "pre_counts['White'] = race_counts['White'] / int(new_census[1][0])\n",
    "pre_counts"
   ]
  },
  {
   "cell_type": "code",
   "execution_count": 12,
   "metadata": {},
   "outputs": [
    {
     "data": {
      "text/plain": [
       "{'Asian/Pacific Islander': 8.374309664161762,\n",
       " 'Black': 57.8773477735196,\n",
       " 'Hispanic': 20.220491210910907,\n",
       " 'Native American/Native Alaskan': 24.521955573811088,\n",
       " 'White': 33.56849303419181}"
      ]
     },
     "execution_count": 12,
     "metadata": {},
     "output_type": "execute_result"
    }
   ],
   "source": [
    "race_per_hundredk = {}\n",
    "\n",
    "for key, value in pre_counts.items():\n",
    "    race_per_hundredk[key] = value * 100000\n",
    "race_per_hundredk"
   ]
  },
  {
   "cell_type": "code",
   "execution_count": 13,
   "metadata": {},
   "outputs": [],
   "source": [
    "%config IPCompleter.greedy=True"
   ]
  },
  {
   "cell_type": "code",
   "execution_count": 14,
   "metadata": {},
   "outputs": [
    {
     "data": {
      "text/plain": [
       "{'Asian/Pacific Islander': 559,\n",
       " 'Black': 19510,\n",
       " 'Hispanic': 5634,\n",
       " 'Native American/Native Alaskan': 326,\n",
       " 'White': 9147}"
      ]
     },
     "execution_count": 14,
     "metadata": {},
     "output_type": "execute_result"
    }
   ],
   "source": [
    "race_counts_homicide = {}\n",
    "\n",
    "intents = [i[3] for i in data]\n",
    "races = [i[7] for i in data]\n",
    "\n",
    "for index, value in enumerate(races):\n",
    "    if intents[index] == 'Homicide':\n",
    "        if value in race_counts_homicide:\n",
    "            race_counts_homicide[value] += 1\n",
    "        else:\n",
    "            race_counts_homicide[value] = 1\n",
    "            \n",
    "race_counts_homicide"
   ]
  },
  {
   "cell_type": "code",
   "execution_count": 15,
   "metadata": {},
   "outputs": [
    {
     "data": {
      "text/plain": [
       "{'Asian/Pacific Islander': 3.530346230970155e-05,\n",
       " 'Black': 0.0004847128498718095,\n",
       " 'Hispanic': 0.00012627161104219914,\n",
       " 'Native American/Native Alaskan': 8.717729026240364e-05,\n",
       " 'White': 4.635641798145334e-05}"
      ]
     },
     "execution_count": 15,
     "metadata": {},
     "output_type": "execute_result"
    }
   ],
   "source": [
    "pre_counts = {}\n",
    "\n",
    "pre_counts['Asian/Pacific Islander'] = ((race_counts_homicide['Asian/Pacific Islander']) / sum([int(new_census[1][-1]), int(new_census[1][-2])]))\n",
    "pre_counts['Black'] = race_counts_homicide['Black'] / int(new_census[1][2])\n",
    "pre_counts['Hispanic'] = race_counts_homicide['Hispanic'] / int(new_census[1][1])\n",
    "pre_counts['Native American/Native Alaskan'] = race_counts_homicide['Native American/Native Alaskan'] / int(new_census[1][3])\n",
    "pre_counts['White'] = race_counts_homicide['White'] / int(new_census[1][0])\n",
    "pre_counts"
   ]
  },
  {
   "cell_type": "code",
   "execution_count": 16,
   "metadata": {},
   "outputs": [
    {
     "data": {
      "text/plain": [
       "{'Asian/Pacific Islander': 3.530346230970155,\n",
       " 'Black': 48.471284987180944,\n",
       " 'Hispanic': 12.627161104219914,\n",
       " 'Native American/Native Alaskan': 8.717729026240365,\n",
       " 'White': 4.6356417981453335}"
      ]
     },
     "execution_count": 16,
     "metadata": {},
     "output_type": "execute_result"
    }
   ],
   "source": [
    "homicide_race_counts = {}\n",
    "for key,value in pre_counts.items():\n",
    "    new_input = value * 100000\n",
    "    homicide_race_counts[key] = new_input\n",
    "    \n",
    "homicide_race_counts"
   ]
  },
  {
   "cell_type": "markdown",
   "metadata": {},
   "source": [
    "# The death of the children under 19 and a way to down grade the numbers of death of them, by analyzing the data."
   ]
  },
  {
   "cell_type": "code",
   "execution_count": 28,
   "metadata": {},
   "outputs": [],
   "source": [
    "# Getting the list only with the children under 19\n",
    "list_of_children = []\n",
    "\n",
    "\n",
    "for i in data:\n",
    "    age = i[6]\n",
    "    if age == 'NA':\n",
    "        age = -1\n",
    "    else:\n",
    "        age = int(age)\n",
    "    if 0 < age <= 18:\n",
    "        list_of_children.append(i)"
   ]
  },
  {
   "cell_type": "code",
   "execution_count": 30,
   "metadata": {},
   "outputs": [
    {
     "data": {
      "text/plain": [
       "5610"
      ]
     },
     "execution_count": 30,
     "metadata": {},
     "output_type": "execute_result"
    }
   ],
   "source": [
    "# Total number of children killed for 3 years\n",
    "\n",
    "total_children_count = len(list_of_children)\n",
    "total_children_count"
   ]
  },
  {
   "cell_type": "code",
   "execution_count": 38,
   "metadata": {},
   "outputs": [
    {
     "name": "stdout",
     "output_type": "stream",
     "text": [
      "155.83333333333334\n",
      "15.390292755861115\n"
     ]
    },
    {
     "data": {
      "text/plain": [
       "[[datetime.datetime(2014, 2, 1, 0, 0), 130],\n",
       " [datetime.datetime(2012, 2, 1, 0, 0), 133],\n",
       " [datetime.datetime(2013, 2, 1, 0, 0), 137],\n",
       " [datetime.datetime(2012, 11, 1, 0, 0), 140],\n",
       " [datetime.datetime(2013, 4, 1, 0, 0), 140],\n",
       " [datetime.datetime(2014, 7, 1, 0, 0), 141],\n",
       " [datetime.datetime(2014, 3, 1, 0, 0), 143],\n",
       " [datetime.datetime(2013, 9, 1, 0, 0), 145],\n",
       " [datetime.datetime(2013, 12, 1, 0, 0), 146],\n",
       " [datetime.datetime(2014, 5, 1, 0, 0), 147],\n",
       " [datetime.datetime(2013, 6, 1, 0, 0), 148],\n",
       " [datetime.datetime(2013, 3, 1, 0, 0), 149],\n",
       " [datetime.datetime(2013, 8, 1, 0, 0), 149],\n",
       " [datetime.datetime(2012, 10, 1, 0, 0), 150],\n",
       " [datetime.datetime(2012, 3, 1, 0, 0), 150],\n",
       " [datetime.datetime(2013, 11, 1, 0, 0), 151],\n",
       " [datetime.datetime(2013, 7, 1, 0, 0), 153],\n",
       " [datetime.datetime(2013, 5, 1, 0, 0), 153],\n",
       " [datetime.datetime(2014, 9, 1, 0, 0), 154],\n",
       " [datetime.datetime(2012, 8, 1, 0, 0), 155],\n",
       " [datetime.datetime(2013, 10, 1, 0, 0), 155],\n",
       " [datetime.datetime(2014, 6, 1, 0, 0), 156],\n",
       " [datetime.datetime(2014, 12, 1, 0, 0), 156],\n",
       " [datetime.datetime(2012, 6, 1, 0, 0), 157],\n",
       " [datetime.datetime(2012, 4, 1, 0, 0), 160],\n",
       " [datetime.datetime(2014, 4, 1, 0, 0), 163],\n",
       " [datetime.datetime(2012, 5, 1, 0, 0), 164],\n",
       " [datetime.datetime(2013, 1, 1, 0, 0), 165],\n",
       " [datetime.datetime(2014, 1, 1, 0, 0), 165],\n",
       " [datetime.datetime(2014, 10, 1, 0, 0), 166],\n",
       " [datetime.datetime(2012, 9, 1, 0, 0), 169],\n",
       " [datetime.datetime(2012, 1, 1, 0, 0), 170],\n",
       " [datetime.datetime(2012, 12, 1, 0, 0), 172],\n",
       " [datetime.datetime(2014, 8, 1, 0, 0), 181],\n",
       " [datetime.datetime(2014, 11, 1, 0, 0), 188],\n",
       " [datetime.datetime(2012, 7, 1, 0, 0), 209]]"
      ]
     },
     "execution_count": 38,
     "metadata": {},
     "output_type": "execute_result"
    }
   ],
   "source": [
    "# Number of children killed by gun power each month\n",
    "import datetime\n",
    "children_killed_each_month = {}\n",
    "monthly_children_list = []\n",
    "numbers_killed_each_month = []\n",
    "\n",
    "# Grabbing the data date for only with the children data\n",
    "for i in list_of_children:\n",
    "    year_input = int(i[1])\n",
    "    month_input = int(i[2])\n",
    "    date = datetime.datetime(year= year_input, month= month_input, day= 1)\n",
    "    if date in children_killed_each_month:\n",
    "        children_killed_each_month[date] += 1\n",
    "    else:\n",
    "        children_killed_each_month[date] = 1\n",
    "\n",
    "# Changing the dict to list, for sorting\n",
    "for key, value in children_killed_each_month.items():\n",
    "    monthly_children_list.append([key, value])\n",
    "    numbers_killed_each_month.append(value)\n",
    "    \n",
    "\n",
    "# Getting the mean value for each month\n",
    "mean_val_each_month = sum(numbers_killed_each_month) / len(numbers_killed_each_month)\n",
    "print(mean_val_each_month)\n",
    "\n",
    "\n",
    "# Getting the standard devision value for each month\n",
    "elements = []\n",
    "for i in numbers_killed_each_month:\n",
    "    elements.append(mean_val_each_month - i)\n",
    "square_value = [ i ** 2 for i in elements]    \n",
    "standard_devision = (sum(square_value) / len(square_value)) ** 0.5\n",
    "print(standard_devision)\n",
    "\n",
    "# Outputing the month data sorted\n",
    "sorted(monthly_children_list, key=lambda l:l[1])"
   ]
  },
  {
   "cell_type": "markdown",
   "metadata": {},
   "source": [
    "It turns out around 155.83 children are killed each month by gun power. This means around 5 children are getting killed each day. Standard devision was staying pretty low at 15.39, and there were no tipical month that had really high or low death for the children. The victoms were widdly spread during the three years, with no sign dropping. "
   ]
  },
  {
   "cell_type": "code",
   "execution_count": null,
   "metadata": {},
   "outputs": [],
   "source": []
  }
 ],
 "metadata": {
  "kernelspec": {
   "display_name": "Python 3",
   "language": "python",
   "name": "python3"
  },
  "language_info": {
   "codemirror_mode": {
    "name": "ipython",
    "version": 3
   },
   "file_extension": ".py",
   "mimetype": "text/x-python",
   "name": "python",
   "nbconvert_exporter": "python",
   "pygments_lexer": "ipython3",
   "version": "3.6.4"
  }
 },
 "nbformat": 4,
 "nbformat_minor": 2
}
