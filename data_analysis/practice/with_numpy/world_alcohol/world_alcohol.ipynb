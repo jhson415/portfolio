{
 "cells": [
  {
   "cell_type": "markdown",
   "metadata": {},
   "source": [
    "# Information of the data\n",
    "## Column headers for the data\n",
    "- year: The year the data in the row is for\n",
    "- WHO region: The region in which the country is located(Western Pacific, Americas)\n",
    "- Country: The country of the data is for\n",
    "- Beverage Types: The type of veverage \n",
    "- Display Value: The average number of the liters drunk per capita"
   ]
  },
  {
   "cell_type": "code",
   "execution_count": 1,
   "metadata": {},
   "outputs": [
    {
     "data": {
      "text/plain": [
       "array([['1986', 'Western Pacific', 'Viet Nam', 'Wine', '0'],\n",
       "       ['1986', 'Americas', 'Uruguay', 'Other', '0.5'],\n",
       "       ['1985', 'Africa', \"Cte d'Ivoire\", 'Wine', '1.62'],\n",
       "       ...,\n",
       "       ['1986', 'Europe', 'Switzerland', 'Spirits', '2.54'],\n",
       "       ['1987', 'Western Pacific', 'Papua New Guinea', 'Other', '0'],\n",
       "       ['1986', 'Africa', 'Swaziland', 'Other', '5.15']], dtype='<U75')"
      ]
     },
     "execution_count": 1,
     "metadata": {},
     "output_type": "execute_result"
    }
   ],
   "source": [
    "# import numpy & read the data set into a ndarray\n",
    "# the dtype of the ndarray is selected as unicode to not drop any datas  \n",
    "# Header skiped\n",
    "import numpy as np\n",
    "data = np.genfromtxt('world_alcohol.csv', delimiter=',',dtype='U75', skip_header=1)\n",
    "data"
   ]
  },
  {
   "cell_type": "markdown",
   "metadata": {},
   "source": [
    "# Getting the general informations about the ndarray"
   ]
  },
  {
   "cell_type": "code",
   "execution_count": 2,
   "metadata": {},
   "outputs": [
    {
     "name": "stdout",
     "output_type": "stream",
     "text": [
      "(3257, 5)\n"
     ]
    }
   ],
   "source": [
    "# look through the shape of the ndarray\n",
    "print(data.shape)"
   ]
  },
  {
   "cell_type": "markdown",
   "metadata": {},
   "source": [
    "It shows that the whole data set is in 3258 rows and 5 columns"
   ]
  },
  {
   "cell_type": "markdown",
   "metadata": {},
   "source": [
    "# Things that could be analyzed \n",
    "1. Did the number of alcohol decreased or increased by time\n",
    "2. Which country and region drinks the most alcohol\n",
    "3. Which is the most popular alcohol among the world"
   ]
  },
  {
   "cell_type": "markdown",
   "metadata": {},
   "source": [
    "# Drawing useful functions to use for the analysis"
   ]
  },
  {
   "cell_type": "code",
   "execution_count": 3,
   "metadata": {},
   "outputs": [],
   "source": [
    "# Input '0' for empty display values \n",
    "bool_val = data[:, 4] == ''\n",
    "data[bool_val, 4] = '0'"
   ]
  },
  {
   "cell_type": "markdown",
   "metadata": {},
   "source": [
    "### Function for making a pivot table"
   ]
  },
  {
   "cell_type": "code",
   "execution_count": 4,
   "metadata": {},
   "outputs": [],
   "source": [
    "def display_value_pivot_table(column):\n",
    "    # Making a list of the unique values inside the column\n",
    "    unique_val = list(np.unique(data[:, column]))\n",
    "    # Empty dict to retrun\n",
    "    result = {}\n",
    "    \n",
    "    for i in unique_val:\n",
    "        # Finding the values that macthes the column\n",
    "        boolean_val = data[:,column] == i\n",
    "        values = data[boolean_val, 4]\n",
    "        # Shift the dtype of the elements and add up\n",
    "        values = values.astype(float)\n",
    "        values = values.sum()\n",
    "        \n",
    "        result[i] = values\n",
    "    return result"
   ]
  },
  {
   "cell_type": "markdown",
   "metadata": {},
   "source": [
    "### Function for getting the ratio value of the pivot table \n"
   ]
  },
  {
   "cell_type": "code",
   "execution_count": 5,
   "metadata": {},
   "outputs": [],
   "source": [
    "def display_value_pivot_ratio(column):\n",
    "    # Bringing up the pivot table data\n",
    "    pivot_table = display_value_pivot_table(column)\n",
    "    result = {}\n",
    "    # Getting the value of sums of the elements\n",
    "    values = pivot_table.values()\n",
    "    value_sum = sum(values)\n",
    "    # Making a new dict with the ratio values\n",
    "    for key, value in pivot_table.items():\n",
    "        result[key] = value / value_sum * 100\n",
    "    return result\n",
    "\n",
    "    "
   ]
  },
  {
   "cell_type": "markdown",
   "metadata": {},
   "source": [
    "## Analyze the amount of the alcohol drank every year"
   ]
  },
  {
   "cell_type": "code",
   "execution_count": 6,
   "metadata": {},
   "outputs": [
    {
     "data": {
      "text/plain": [
       "{'1984': 804.67,\n",
       " '1985': 790.9,\n",
       " '1986': 771.01,\n",
       " '1987': 767.0,\n",
       " '1989': 775.3799999999999}"
      ]
     },
     "execution_count": 6,
     "metadata": {},
     "output_type": "execute_result"
    }
   ],
   "source": [
    "# Using the pivot table function\n",
    "year_pivot = display_value_pivot_table(0)\n",
    "year_pivot"
   ]
  },
  {
   "cell_type": "code",
   "execution_count": 7,
   "metadata": {},
   "outputs": [
    {
     "name": "stdout",
     "output_type": "stream",
     "text": [
      "The difference between year1984 and 1985 is -13.769999999999982\n",
      "The difference between year1985 and 1986 is -19.889999999999986\n",
      "The difference between year1986 and 1987 is -4.009999999999991\n",
      "The difference between year1987 and 1989 is 8.379999999999882\n"
     ]
    }
   ],
   "source": [
    "for key, value in year_pivot.items():\n",
    "    if key == '1984':\n",
    "        privious_val = value\n",
    "        privious_year = key\n",
    "    else:\n",
    "        difference = value - privious_val\n",
    "        print('The difference between year{0} and {1} is {2}'.format(privious_year, key, difference))\n",
    "        privious_val = value\n",
    "        privious_year = key\n"
   ]
  },
  {
   "cell_type": "markdown",
   "metadata": {},
   "source": [
    "### Results \n",
    "    The number of alcohols drank over the world have gently decreased over time expect the last year. Need more data so find the exact reason for this fact. If later on it turns out the America had the most leap the end of the Cold War in December of 1989 might have a influence on this fact.\n",
    "    Another way of seeing this data is that from 1986 some event made people drink more. Since from that time peirod the number that when down have became soft. \n"
   ]
  },
  {
   "cell_type": "markdown",
   "metadata": {},
   "source": [
    "### Alcohol drank ratio and amout by region "
   ]
  },
  {
   "cell_type": "code",
   "execution_count": 8,
   "metadata": {},
   "outputs": [
    {
     "data": {
      "text/plain": [
       "{'Africa': 735.68,\n",
       " 'Americas': 902.69,\n",
       " 'Eastern Mediterranean': 129.45999999999998,\n",
       " 'Europe': 1737.01,\n",
       " 'South-East Asia': 46.91,\n",
       " 'Western Pacific': 357.21}"
      ]
     },
     "execution_count": 8,
     "metadata": {},
     "output_type": "execute_result"
    }
   ],
   "source": [
    "# Using the pivot table function to see the numbers for each region\n",
    "display_value_pivot_table(1)"
   ]
  },
  {
   "cell_type": "code",
   "execution_count": 9,
   "metadata": {},
   "outputs": [
    {
     "data": {
      "text/plain": [
       "{'Africa': 18.820351193156235,\n",
       " 'Americas': 23.092843109164587,\n",
       " 'Eastern Mediterranean': 3.311878351275019,\n",
       " 'Europe': 44.436627645204865,\n",
       " 'South-East Asia': 1.2000634439851008,\n",
       " 'Western Pacific': 9.138236257214194}"
      ]
     },
     "execution_count": 9,
     "metadata": {},
     "output_type": "execute_result"
    }
   ],
   "source": [
    "# Using the ratio function to see the ratio for each region\n",
    "display_value_pivot_ratio(1)"
   ]
  },
  {
   "cell_type": "markdown",
   "metadata": {},
   "source": [
    "### Results\n",
    "    Europe is the region that drinks most of the alcohol. The ratio is almost half of the whole world which is 44.43%. America and Afria follows that with 23 and 18%. Rest of the regions seems dont to spend a lot on drinking with less than ten persent. Especially, South-East Asia only takes around one persent. The reason for South-East Asia being so low will have conection to the laws and religions of the counties on that part."
   ]
  },
  {
   "cell_type": "markdown",
   "metadata": {},
   "source": [
    "## Analyzing the rank of drinking for each country"
   ]
  },
  {
   "cell_type": "markdown",
   "metadata": {},
   "source": [
    "### Results \n",
    "It clear that most of the alcohols are drank over Europe and Ameica. "
   ]
  },
  {
   "cell_type": "code",
   "execution_count": 10,
   "metadata": {},
   "outputs": [
    {
     "name": "stdout",
     "output_type": "stream",
     "text": [
      "Hungary is the 1 country that drinks the most alcohol with 82.22 for five years\n",
      "France is the 2 country that drinks the most alcohol with 81.56 for five years\n",
      "Slovenia is the 3 country that drinks the most alcohol with 80.05 for five years\n",
      "Luxembourg is the 4 country that drinks the most alcohol with 77.36999999999999 for five years\n",
      "Portugal is the 5 country that drinks the most alcohol with 75.50999999999999 for five years\n",
      "Germany is the 6 country that drinks the most alcohol with 74.48 for five years\n",
      "Spain is the 7 country that drinks the most alcohol with 71.02000000000001 for five years\n",
      "Switzerland is the 8 country that drinks the most alcohol with 70.64 for five years\n",
      "Bahamas is the 9 country that drinks the most alcohol with 69.83999999999999 for five years\n",
      "Austria is the 10 country that drinks the most alcohol with 68.2 for five years\n",
      "Czech Republic is the 11 country that drinks the most alcohol with 67.75 for five years\n",
      "Slovakia is the 12 country that drinks the most alcohol with 67.38999999999999 for five years\n",
      "Gabon is the 13 country that drinks the most alcohol with 64.37 for five years\n",
      "Belgium is the 14 country that drinks the most alcohol with 63.89 for five years\n",
      "Argentina is the 15 country that drinks the most alcohol with 63.06 for five years\n",
      "Australia is the 16 country that drinks the most alcohol with 62.480000000000004 for five years\n",
      "Italy is the 17 country that drinks the most alcohol with 62.29 for five years\n",
      "Denmark is the 18 country that drinks the most alcohol with 60.25 for five years\n",
      "New Zealand is the 19 country that drinks the most alcohol with 60.05000000000001 for five years\n",
      "Ireland is the 20 country that drinks the most alcohol with 56.709999999999994 for five years\n",
      "Bulgaria is the 21 country that drinks the most alcohol with 56.1 for five years\n",
      "Netherlands is the 22 country that drinks the most alcohol with 52.160000000000004 for five years\n",
      "Greece is the 23 country that drinks the most alcohol with 51.36000000000001 for five years\n",
      "Republic of Korea is the 24 country that drinks the most alcohol with 50.9 for five years\n",
      "United Kingdom of Great Britain and Northern Ireland is the 25 country that drinks the most alcohol with 50.18000000000001 for five years\n",
      "Saint Lucia is the 26 country that drinks the most alcohol with 49.28 for five years\n",
      "United States of America is the 27 country that drinks the most alcohol with 48.56 for five years\n",
      "Chile is the 28 country that drinks the most alcohol with 46.83 for five years\n",
      "Canada is the 29 country that drinks the most alcohol with 46.46 for five years\n",
      "Romania is the 30 country that drinks the most alcohol with 44.8 for five years\n",
      "Poland is the 31 country that drinks the most alcohol with 44.73 for five years\n",
      "South Africa is the 32 country that drinks the most alcohol with 44.199999999999996 for five years\n",
      "Latvia is the 33 country that drinks the most alcohol with 43.8 for five years\n",
      "Finland is the 34 country that drinks the most alcohol with 42.8 for five years\n",
      "Venezuela (Bolivarian Republic of) is the 35 country that drinks the most alcohol with 42.300000000000004 for five years\n",
      "Cyprus is the 36 country that drinks the most alcohol with 42.019999999999996 for five years\n",
      "Burundi is the 37 country that drinks the most alcohol with 40.419999999999995 for five years\n",
      "Uganda is the 38 country that drinks the most alcohol with 37.64000000000001 for five years\n",
      "United Arab Emirates is the 39 country that drinks the most alcohol with 37.300000000000004 for five years\n",
      "Uruguay is the 40 country that drinks the most alcohol with 37.22 for five years\n",
      "Japan is the 41 country that drinks the most alcohol with 36.72 for five years\n",
      "Nigeria is the 42 country that drinks the most alcohol with 35.940000000000005 for five years\n",
      "Rwanda is the 43 country that drinks the most alcohol with 35.51 for five years\n",
      "Sweden is the 44 country that drinks the most alcohol with 35.47 for five years\n",
      "Paraguay is the 45 country that drinks the most alcohol with 35.22 for five years\n",
      "United Republic of Tanzania is the 46 country that drinks the most alcohol with 34.89000000000001 for five years\n",
      "Swaziland is the 47 country that drinks the most alcohol with 33.64 for five years\n",
      "Guyana is the 48 country that drinks the most alcohol with 33.55 for five years\n",
      "Colombia is the 49 country that drinks the most alcohol with 32.900000000000006 for five years\n",
      "Russian Federation is the 50 country that drinks the most alcohol with 31.82 for five years\n",
      "Cameroon is the 51 country that drinks the most alcohol with 31.54 for five years\n",
      "Zimbabwe is the 52 country that drinks the most alcohol with 31.07 for five years\n",
      "Peru is the 53 country that drinks the most alcohol with 28.460000000000004 for five years\n",
      "Bahrain is the 54 country that drinks the most alcohol with 27.54 for five years\n",
      "Haiti is the 55 country that drinks the most alcohol with 27.509999999999998 for five years\n",
      "Malta is the 56 country that drinks the most alcohol with 27.43 for five years\n",
      "Ukraine is the 57 country that drinks the most alcohol with 27.419999999999998 for five years\n",
      "Iceland is the 58 country that drinks the most alcohol with 27.230000000000004 for five years\n",
      "Norway is the 59 country that drinks the most alcohol with 25.93 for five years\n",
      "Suriname is the 60 country that drinks the most alcohol with 25.619999999999997 for five years\n",
      "Congo is the 61 country that drinks the most alcohol with 25.199999999999996 for five years\n",
      "Trinidad and Tobago is the 62 country that drinks the most alcohol with 25.049999999999997 for five years\n",
      "Lao People's Democratic Republic is the 63 country that drinks the most alcohol with 24.950000000000003 for five years\n",
      "Panama is the 64 country that drinks the most alcohol with 24.59 for five years\n",
      "Croatia is the 65 country that drinks the most alcohol with 24.43 for five years\n",
      "Costa Rica is the 66 country that drinks the most alcohol with 24.4 for five years\n",
      "Mexico is the 67 country that drinks the most alcohol with 23.06 for five years\n",
      "Sierra Leone is the 68 country that drinks the most alcohol with 22.88 for five years\n",
      "Belize is the 69 country that drinks the most alcohol with 22.750000000000004 for five years\n",
      "Liberia is the 70 country that drinks the most alcohol with 22.520000000000003 for five years\n",
      "Botswana is the 71 country that drinks the most alcohol with 22.05 for five years\n",
      "Philippines is the 72 country that drinks the most alcohol with 21.169999999999998 for five years\n",
      "Brazil is the 73 country that drinks the most alcohol with 21.1 for five years\n",
      "Antigua and Barbuda is the 74 country that drinks the most alcohol with 20.91 for five years\n",
      "Cuba is the 75 country that drinks the most alcohol with 20.490000000000002 for five years\n",
      "Dominican Republic is the 76 country that drinks the most alcohol with 19.77 for five years\n",
      "Saint Kitts and Nevis is the 77 country that drinks the most alcohol with 19.290000000000003 for five years\n",
      "Lebanon is the 78 country that drinks the most alcohol with 19.060000000000002 for five years\n",
      "Burkina Faso is the 79 country that drinks the most alcohol with 18.18 for five years\n",
      "Kyrgyzstan is the 80 country that drinks the most alcohol with 17.77 for five years\n",
      "Democratic People's Republic of Korea is the 81 country that drinks the most alcohol with 17.580000000000002 for five years\n",
      "Thailand is the 82 country that drinks the most alcohol with 17.43 for five years\n",
      "Seychelles is the 83 country that drinks the most alcohol with 16.08 for five years\n",
      "Nicaragua is the 84 country that drinks the most alcohol with 15.879999999999999 for five years\n",
      "Bolivia (Plurinational State of) is the 85 country that drinks the most alcohol with 15.8 for five years\n",
      "Mauritius is the 86 country that drinks the most alcohol with 15.68 for five years\n",
      "Brunei Darussalam is the 87 country that drinks the most alcohol with 15.57 for five years\n",
      "Zambia is the 88 country that drinks the most alcohol with 15.499999999999998 for five years\n",
      "Jamaica is the 89 country that drinks the most alcohol with 14.799999999999999 for five years\n",
      "Mongolia is the 90 country that drinks the most alcohol with 14.4 for five years\n",
      "Cabo Verde is the 91 country that drinks the most alcohol with 14.19 for five years\n",
      "Guatemala is the 92 country that drinks the most alcohol with 13.89 for five years\n",
      "Kenya is the 93 country that drinks the most alcohol with 13.61 for five years\n",
      "Central African Republic is the 94 country that drinks the most alcohol with 13.54 for five years\n",
      "Guinea-Bissau is the 95 country that drinks the most alcohol with 13.520000000000001 for five years\n",
      "Cte d'Ivoire is the 96 country that drinks the most alcohol with 13.37 for five years\n",
      "China is the 97 country that drinks the most alcohol with 13.280000000000001 for five years\n",
      "Togo is the 98 country that drinks the most alcohol with 13.13 for five years\n",
      "Lesotho is the 99 country that drinks the most alcohol with 12.27 for five years\n",
      "Ecuador is the 100 country that drinks the most alcohol with 12.23 for five years\n",
      "Israel is the 101 country that drinks the most alcohol with 11.889999999999999 for five years\n",
      "El Salvador is the 102 country that drinks the most alcohol with 11.589999999999998 for five years\n",
      "Democratic Republic of the Congo is the 103 country that drinks the most alcohol with 11.579999999999998 for five years\n",
      "Equatorial Guinea is the 104 country that drinks the most alcohol with 11.06 for five years\n",
      "Samoa is the 105 country that drinks the most alcohol with 10.839999999999998 for five years\n",
      "Honduras is the 106 country that drinks the most alcohol with 10.28 for five years\n",
      "Djibouti is the 107 country that drinks the most alcohol with 10.14 for five years\n",
      "Fiji is the 108 country that drinks the most alcohol with 9.660000000000002 for five years\n",
      "Angola is the 109 country that drinks the most alcohol with 9.61 for five years\n",
      "Vanuatu is the 110 country that drinks the most alcohol with 9.290000000000001 for five years\n",
      "Qatar is the 111 country that drinks the most alcohol with 9.269999999999998 for five years\n",
      "Singapore is the 112 country that drinks the most alcohol with 9.09 for five years\n",
      "Gambia is the 113 country that drinks the most alcohol with 8.72 for five years\n",
      "Belarus is the 114 country that drinks the most alcohol with 7.9799999999999995 for five years\n",
      "Albania is the 115 country that drinks the most alcohol with 7.92 for five years\n",
      "Ghana is the 116 country that drinks the most alcohol with 7.6499999999999995 for five years\n",
      "India is the 117 country that drinks the most alcohol with 6.89 for five years\n",
      "Benin is the 118 country that drinks the most alcohol with 6.8500000000000005 for five years\n",
      "Sao Tome and Principe is the 119 country that drinks the most alcohol with 6.83 for five years\n",
      "Madagascar is the 120 country that drinks the most alcohol with 6.570000000000001 for five years\n",
      "Papua New Guinea is the 121 country that drinks the most alcohol with 6.18 for five years\n",
      "Malawi is the 122 country that drinks the most alcohol with 5.930000000000001 for five years\n",
      "Tunisia is the 123 country that drinks the most alcohol with 5.3999999999999995 for five years\n",
      "Turkey is the 124 country that drinks the most alcohol with 4.4399999999999995 for five years\n",
      "Solomon Islands is the 125 country that drinks the most alcohol with 4.3999999999999995 for five years\n",
      "Syrian Arab Republic is the 126 country that drinks the most alcohol with 4.2 for five years\n",
      "Iraq is the 127 country that drinks the most alcohol with 3.7099999999999995 for five years\n",
      "Ethiopia is the 128 country that drinks the most alcohol with 3.42 for five years\n",
      "Malaysia is the 129 country that drinks the most alcohol with 3.3100000000000005 for five years\n",
      "Morocco is the 130 country that drinks the most alcohol with 3.27 for five years\n",
      "Mali is the 131 country that drinks the most alcohol with 2.9599999999999995 for five years\n",
      "Kiribati is the 132 country that drinks the most alcohol with 2.77 for five years\n",
      "Oman is the 133 country that drinks the most alcohol with 2.6 for five years\n",
      "Senegal is the 134 country that drinks the most alcohol with 2.5400000000000005 for five years\n",
      "Bhutan is the 135 country that drinks the most alcohol with 2.24 for five years\n",
      "Eritrea is the 136 country that drinks the most alcohol with 2.0700000000000003 for five years\n",
      "Egypt is the 137 country that drinks the most alcohol with 1.9500000000000002 for five years\n",
      "Chad is the 138 country that drinks the most alcohol with 1.6600000000000001 for five years\n",
      "Algeria is the 139 country that drinks the most alcohol with 1.6100000000000003 for five years\n",
      "Mozambique is the 140 country that drinks the most alcohol with 1.56 for five years\n",
      "Jordan is the 141 country that drinks the most alcohol with 1.39 for five years\n",
      "Cambodia is the 142 country that drinks the most alcohol with 1.32 for five years\n",
      "Myanmar is the 143 country that drinks the most alcohol with 1.3000000000000003 for five years\n",
      "Namibia is the 144 country that drinks the most alcohol with 1.29 for five years\n",
      "Saudi Arabia is the 145 country that drinks the most alcohol with 1.23 for five years\n",
      "Comoros is the 146 country that drinks the most alcohol with 1.2200000000000002 for five years\n",
      "Sudan is the 147 country that drinks the most alcohol with 1.16 for five years\n",
      "Yemen is the 148 country that drinks the most alcohol with 1.09 for five years\n",
      "Sri Lanka is the 149 country that drinks the most alcohol with 1.05 for five years\n",
      "Viet Nam is the 150 country that drinks the most alcohol with 0.8300000000000002 for five years\n",
      "Niger is the 151 country that drinks the most alcohol with 0.7900000000000001 for five years\n",
      "Guinea is the 152 country that drinks the most alcohol with 0.6600000000000001 for five years\n",
      "Indonesia is the 153 country that drinks the most alcohol with 0.33 for five years\n",
      "Mauritania is the 154 country that drinks the most alcohol with 0.16 for five years\n",
      "Pakistan is the 155 country that drinks the most alcohol with 0.09999999999999999 for five years\n",
      "Nepal is the 156 country that drinks the most alcohol with 0.09 for five years\n",
      "Somalia is the 157 country that drinks the most alcohol with 0.05 for five years\n",
      "Afghanistan is the 158 country that drinks the most alcohol with 0.0 for five years\n",
      "Bangladesh is the 159 country that drinks the most alcohol with 0.0 for five years\n",
      "Iran (Islamic Republic of) is the 160 country that drinks the most alcohol with 0.0 for five years\n",
      "Kuwait is the 161 country that drinks the most alcohol with 0.0 for five years\n",
      "Libya is the 162 country that drinks the most alcohol with 0.0 for five years\n",
      "Lithuania is the 163 country that drinks the most alcohol with 0.0 for five years\n",
      "Micronesia (Federated States of) is the 164 country that drinks the most alcohol with 0.0 for five years\n"
     ]
    }
   ],
   "source": [
    "country_dict = display_value_pivot_table(2)\n",
    "# Changing the dict to list to make it have sequence and sorting the list\n",
    "country_list = [[key, value] for key, value in country_dict.items()]\n",
    "country_list.sort(key=lambda x: x[1], reverse=True)\n",
    "\n",
    "for i in enumerate(country_list):\n",
    "    print('{0} is the {1} country that drinks the most alcohol with {2} for five years'.format(i[1][0], i[0]+1, i[1][1]))"
   ]
  },
  {
   "cell_type": "markdown",
   "metadata": {},
   "source": [
    "### Result \n",
    "    One interesting fact is the countries in the high ranks are not the ones with a huge population. This shows that there will be a even bigger gap between the countries if we search for amount of drinks drank by a person. Most of the high rank countries seems to be in Europ which proves the previous data about the region once agaion. \n",
    "    Another facter in this dataset is that there are five countries with 0 alcohol spent for 5 years. This might be because of it is illegal or the difficulty of collection data in those countries. "
   ]
  },
  {
   "cell_type": "markdown",
   "metadata": {},
   "source": [
    "## Analyzing the most popular alcohol among the world"
   ]
  },
  {
   "cell_type": "code",
   "execution_count": 11,
   "metadata": {},
   "outputs": [
    {
     "data": {
      "text/plain": [
       "{'Beer': 1353.83,\n",
       " 'Other': 415.27,\n",
       " 'Spirits': 1282.45,\n",
       " 'Wine': 857.4100000000001}"
      ]
     },
     "execution_count": 11,
     "metadata": {},
     "output_type": "execute_result"
    }
   ],
   "source": [
    "popularity = display_value_pivot_table(3)\n",
    "popularity"
   ]
  },
  {
   "cell_type": "markdown",
   "metadata": {},
   "source": [
    "### Results \n",
    "    Beer is the most drank alcohol among the world and spirits closly follows it. It is interesting that two of the most drank alcohols are totally differnt kind. Beer mostly has less than 5% of alcohol in it, but spitits are the opposite. Huge amout of people wine too, but all the other kinds of alcohols seems not that populler around the world \n",
    "    "
   ]
  },
  {
   "cell_type": "markdown",
   "metadata": {},
   "source": [
    "## Difference between the counties with the popular alcohol"
   ]
  },
  {
   "cell_type": "code",
   "execution_count": 12,
   "metadata": {},
   "outputs": [],
   "source": [
    "# Making a dict that contains all the counties that drink that alcohol as the fist.\n",
    "country_set = set(data[:,2])\n",
    "kinds_set = set(data[:,3])"
   ]
  },
  {
   "cell_type": "code",
   "execution_count": 59,
   "metadata": {},
   "outputs": [
    {
     "data": {
      "text/plain": [
       "[[array(['Iraq', 'Spirits', '2.17'], dtype='<U32')],\n",
       " [array(['Austria', 'Beer', '34.8'], dtype='<U32')],\n",
       " [array(['Malawi', 'Other', '3.87'], dtype='<U32')],\n",
       " [array(['Senegal', 'Wine', '1.22'], dtype='<U32')],\n",
       " [array(['Venezuela (Bolivarian Republic of)', 'Beer', '23.18'],\n",
       "        dtype='<U34')],\n",
       " [array(['Sierra Leone', 'Other', '22.03'], dtype='<U32')],\n",
       " [array(['Iceland', 'Spirits', '15.87'], dtype='<U32')],\n",
       " [array(['Sweden', 'Beer', '15.290000000000001'], dtype='<U32')],\n",
       " [array(['Mali', 'Other', '2.76'], dtype='<U32')],\n",
       " [array(['Ghana', 'Other', '5.95'], dtype='<U32')],\n",
       " [array(['New Zealand', 'Beer', '38.85'], dtype='<U32')],\n",
       " [array(['Republic of Korea', 'Other', '33.95'], dtype='<U32')],\n",
       " [array(['Algeria', 'Beer', '0.8999999999999999'], dtype='<U32')],\n",
       " [array(['Burundi', 'Other', '26.25'], dtype='<U32')],\n",
       " [array(['Thailand', 'Spirits', '16.6'], dtype='<U32')],\n",
       " [array(['Democratic Republic of the Congo', 'Other', '8.85'], dtype='<U32')],\n",
       " [array([\"Democratic People's Republic of Korea\", 'Spirits', '15.76'],\n",
       "        dtype='<U37')],\n",
       " [array(['Luxembourg', 'Wine', '35.95'], dtype='<U32')],\n",
       " [array(['Ireland', 'Beer', '38.58'], dtype='<U32')],\n",
       " [array(['Gabon', 'Beer', '37.480000000000004'], dtype='<U32')],\n",
       " [array(['Kiribati', 'Beer', '2.16'], dtype='<U32')],\n",
       " [array(['Denmark', 'Beer', '37.730000000000004'], dtype='<U32')],\n",
       " [array(['Central African Republic', 'Beer', '6.01'], dtype='<U32')],\n",
       " [array(['Malta', 'Beer', '11.2'], dtype='<U32')],\n",
       " [array(['Netherlands', 'Beer', '26.17'], dtype='<U32')],\n",
       " [array(['Uganda', 'Other', '36.09'], dtype='<U32')],\n",
       " [array(['Papua New Guinea', 'Beer', '5.609999999999999'], dtype='<U32')],\n",
       " [array(['Benin', 'Beer', '4.37'], dtype='<U32')],\n",
       " [array(['Jordan', 'Beer', '0.7200000000000001'], dtype='<U32')],\n",
       " [array(['Jamaica', 'Beer', '9.07'], dtype='<U32')],\n",
       " [array(['Mozambique', 'Spirits', '0.7400000000000001'], dtype='<U32')],\n",
       " [array(['France', 'Wine', '53.83'], dtype='<U32')],\n",
       " [array(['United Kingdom of Great Britain and Northern Ireland', 'Beer',\n",
       "         '31.490000000000002'], dtype='<U52')],\n",
       " [array(['Eritrea', 'Other', '1.49'], dtype='<U32')],\n",
       " [array(['Namibia', 'Other', '1.29'], dtype='<U32')],\n",
       " [array(['United Republic of Tanzania', 'Other', '32.980000000000004'],\n",
       "        dtype='<U32')],\n",
       " [array(['Fiji', 'Beer', '8.77'], dtype='<U32')],\n",
       " [array(['Lebanon', 'Spirits', '13.38'], dtype='<U32')],\n",
       " [array(['Spain', 'Wine', '32.230000000000004'], dtype='<U32')],\n",
       " [array(['Trinidad and Tobago', 'Spirits', '14.31'], dtype='<U32')],\n",
       " [array(['Afghanistan', 'Other', '0.0'], dtype='<U32'),\n",
       "  array(['Afghanistan', 'Beer', '0.0'], dtype='<U32'),\n",
       "  array(['Afghanistan', 'Spirits', '0.0'], dtype='<U32'),\n",
       "  array(['Afghanistan', 'Wine', '0.0'], dtype='<U32')],\n",
       " [array(['Madagascar', 'Spirits', '4.720000000000001'], dtype='<U32')],\n",
       " [array(['Indonesia', 'Spirits', '0.18000000000000002'], dtype='<U32')],\n",
       " [array(['Romania', 'Wine', '18.77'], dtype='<U32')],\n",
       " [array(['Nicaragua', 'Spirits', '12.19'], dtype='<U32')],\n",
       " [array(['Cameroon', 'Other', '19.17'], dtype='<U32')],\n",
       " [array(['Japan', 'Spirits', '14.339999999999998'], dtype='<U32')],\n",
       " [array(['China', 'Spirits', '11.920000000000002'], dtype='<U32')],\n",
       " [array(['Peru', 'Spirits', '15.74'], dtype='<U32')],\n",
       " [array(['Viet Nam', 'Beer', '0.61'], dtype='<U32')],\n",
       " [array(['Guinea-Bissau', 'Other', '6.52'], dtype='<U32')],\n",
       " [array(['Cyprus', 'Spirits', '16.85'], dtype='<U32')],\n",
       " [array(['Costa Rica', 'Spirits', '20.39'], dtype='<U32')],\n",
       " [array(['Germany', 'Beer', '43.0'], dtype='<U32')],\n",
       " [array(['Belgium', 'Beer', '37.03'], dtype='<U32')],\n",
       " [array(['United States of America', 'Beer', '25.35'], dtype='<U32')],\n",
       " [array(['Zimbabwe', 'Spirits', '22.82'], dtype='<U32')],\n",
       " [array(['Kuwait', 'Other', '0.0'], dtype='<U32'),\n",
       "  array(['Kuwait', 'Beer', '0.0'], dtype='<U32'),\n",
       "  array(['Kuwait', 'Spirits', '0.0'], dtype='<U32'),\n",
       "  array(['Kuwait', 'Wine', '0.0'], dtype='<U32')],\n",
       " [array(['Saint Lucia', 'Spirits', '35.35'], dtype='<U32')],\n",
       " [array(['Norway', 'Beer', '13.709999999999999'], dtype='<U32')],\n",
       " [array(['Mexico', 'Beer', '15.07'], dtype='<U32')],\n",
       " [array(['Iran (Islamic Republic of)', 'Other', '0.0'], dtype='<U32'),\n",
       "  array(['Iran (Islamic Republic of)', 'Beer', '0.0'], dtype='<U32'),\n",
       "  array(['Iran (Islamic Republic of)', 'Spirits', '0.0'], dtype='<U32'),\n",
       "  array(['Iran (Islamic Republic of)', 'Wine', '0.0'], dtype='<U32')],\n",
       " [array(['Saudi Arabia', 'Beer', '1.19'], dtype='<U32')],\n",
       " [array(['Angola', 'Beer', '4.54'], dtype='<U32')],\n",
       " [array(['Australia', 'Beer', '37.800000000000004'], dtype='<U32')],\n",
       " [array(['Congo', 'Other', '12.48'], dtype='<U32')],\n",
       " [array(['Djibouti', 'Spirits', '5.909999999999999'], dtype='<U32')],\n",
       " [array(['Somalia', 'Beer', '0.04'], dtype='<U32')],\n",
       " [array(['Qatar', 'Spirits', '8.62'], dtype='<U32')],\n",
       " [array(['Ecuador', 'Beer', '6.999999999999999'], dtype='<U32')],\n",
       " [array(['Belize', 'Spirits', '16.07'], dtype='<U32')],\n",
       " [array(['Portugal', 'Wine', '51.92999999999999'], dtype='<U32')],\n",
       " [array(['Samoa', 'Beer', '10.349999999999998'], dtype='<U32')],\n",
       " [array(['Chile', 'Wine', '27.3'], dtype='<U32')],\n",
       " [array(['Guatemala', 'Spirits', '10.190000000000001'], dtype='<U32')],\n",
       " [array(['Chad', 'Beer', '1.47'], dtype='<U32')],\n",
       " [array(['Guinea', 'Beer', '0.30000000000000004'], dtype='<U32')],\n",
       " [array(['El Salvador', 'Spirits', '7.38'], dtype='<U32')],\n",
       " [array(['Egypt', 'Spirits', '1.57'], dtype='<U32')],\n",
       " [array(['Turkey', 'Spirits', '2.2399999999999998'], dtype='<U32')],\n",
       " [array(['Rwanda', 'Other', '30.89'], dtype='<U32')],\n",
       " [array(['Ethiopia', 'Beer', '2.8600000000000003'], dtype='<U32')],\n",
       " [array(['Bolivia (Plurinational State of)', 'Spirits', '9.85'],\n",
       "        dtype='<U32')],\n",
       " [array(['Kyrgyzstan', 'Spirits', '10.91'], dtype='<U32')],\n",
       " [array(['Yemen', 'Beer', '0.79'], dtype='<U32')],\n",
       " [array(['Niger', 'Beer', '0.55'], dtype='<U32')],\n",
       " [array(['India', 'Spirits', '6.8'], dtype='<U32')],\n",
       " [array(['Brunei Darussalam', 'Beer', '11.719999999999999'], dtype='<U32')],\n",
       " [array(['Poland', 'Spirits', '29.07'], dtype='<U32')],\n",
       " [array(['Gambia', 'Other', '7.6899999999999995'], dtype='<U32')],\n",
       " [array(['Lithuania', 'Other', '0.0'], dtype='<U32'),\n",
       "  array(['Lithuania', 'Beer', '0.0'], dtype='<U32'),\n",
       "  array(['Lithuania', 'Spirits', '0.0'], dtype='<U32'),\n",
       "  array(['Lithuania', 'Wine', '0.0'], dtype='<U32')],\n",
       " [array(['Botswana', 'Beer', '10.879999999999999'], dtype='<U32')],\n",
       " [array(['United Arab Emirates', 'Spirits', '34.019999999999996'],\n",
       "        dtype='<U32')],\n",
       " [array(['Brazil', 'Spirits', '9.930000000000001'], dtype='<U32')],\n",
       " [array(['Italy', 'Wine', '48.04'], dtype='<U32')],\n",
       " [array(['Comoros', 'Spirits', '0.73'], dtype='<U32')],\n",
       " [array(['Slovenia', 'Wine', '46.99'], dtype='<U32')],\n",
       " [array(['Uruguay', 'Wine', '18.939999999999998'], dtype='<U32')],\n",
       " [array(['Lesotho', 'Other', '5.74'], dtype='<U32')],\n",
       " [array(['Paraguay', 'Spirits', '24.03'], dtype='<U32')],\n",
       " [array(['Guyana', 'Spirits', '28.1'], dtype='<U32')],\n",
       " [array(['South Africa', 'Beer', '17.7'], dtype='<U32')],\n",
       " [array(['Switzerland', 'Wine', '35.84'], dtype='<U32')],\n",
       " [array(['Syrian Arab Republic', 'Wine', '3.2099999999999995'], dtype='<U32')],\n",
       " [array(['Greece', 'Wine', '23.200000000000003'], dtype='<U32')],\n",
       " [array(['Bulgaria', 'Beer', '20.77'], dtype='<U32')],\n",
       " [array(['Saint Kitts and Nevis', 'Spirits', '9.82'], dtype='<U32')],\n",
       " [array(['Croatia', 'Wine', '11.68'], dtype='<U32')],\n",
       " [array(['Cuba', 'Spirits', '11.370000000000001'], dtype='<U32')],\n",
       " [array(['Czech Republic', 'Beer', '35.58'], dtype='<U32')],\n",
       " [array(['Bahrain', 'Spirits', '17.730000000000004'], dtype='<U32')],\n",
       " [array(['Seychelles', 'Beer', '10.98'], dtype='<U32')],\n",
       " [array(['Kenya', 'Beer', '6.52'], dtype='<U32')],\n",
       " [array(['Libya', 'Other', '0.0'], dtype='<U32'),\n",
       "  array(['Libya', 'Beer', '0.0'], dtype='<U32'),\n",
       "  array(['Libya', 'Spirits', '0.0'], dtype='<U32'),\n",
       "  array(['Libya', 'Wine', '0.0'], dtype='<U32')],\n",
       " [array(['Vanuatu', 'Beer', '4.11'], dtype='<U32')],\n",
       " [array(['Togo', 'Beer', '9.989999999999998'], dtype='<U32')],\n",
       " [array(['Singapore', 'Beer', '4.95'], dtype='<U32')],\n",
       " [array(['Russian Federation', 'Spirits', '15.92'], dtype='<U32')],\n",
       " [array(['Ukraine', 'Spirits', '12.5'], dtype='<U32')],\n",
       " [array(['Bahamas', 'Spirits', '40.27'], dtype='<U32')],\n",
       " [array(['Mauritania', 'Wine', '0.08'], dtype='<U32')],\n",
       " [array([\"Cte d'Ivoire\", 'Wine', '6.15'], dtype='<U32')],\n",
       " [array(['Liberia', 'Spirits', '19.700000000000003'], dtype='<U32')],\n",
       " [array(['Cabo Verde', 'Wine', '8.56'], dtype='<U32')],\n",
       " [array(['Solomon Islands', 'Beer', '3.8299999999999996'], dtype='<U32')],\n",
       " [array(['Latvia', 'Spirits', '26.619999999999997'], dtype='<U32')],\n",
       " [array(['Colombia', 'Beer', '21.14'], dtype='<U32')],\n",
       " [array(['Israel', 'Beer', '4.8500000000000005'], dtype='<U32')],\n",
       " [array(['Albania', 'Spirits', '3.7199999999999998'], dtype='<U32')],\n",
       " [array(['Finland', 'Beer', '18.959999999999997'], dtype='<U32')],\n",
       " [array(['Belarus', 'Spirits', '4.81'], dtype='<U32')],\n",
       " [array(['Bangladesh', 'Other', '0.0'], dtype='<U32'),\n",
       "  array(['Bangladesh', 'Beer', '0.0'], dtype='<U32'),\n",
       "  array(['Bangladesh', 'Spirits', '0.0'], dtype='<U32'),\n",
       "  array(['Bangladesh', 'Wine', '0.0'], dtype='<U32')],\n",
       " [array(['Argentina', 'Wine', '51.699999999999996'], dtype='<U32')],\n",
       " [array(['Mauritius', 'Spirits', '8.700000000000001'], dtype='<U32')],\n",
       " [array(['Sudan', 'Spirits', '1.16'], dtype='<U32')],\n",
       " [array(['Morocco', 'Beer', '1.62'], dtype='<U32')],\n",
       " [array(['Myanmar', 'Spirits', '1.25'], dtype='<U32')],\n",
       " [array(['Cambodia', 'Spirits', '1.32'], dtype='<U32')],\n",
       " [array(['Philippines', 'Spirits', '14.05'], dtype='<U32')],\n",
       " [array(['Suriname', 'Spirits', '12.9'], dtype='<U32')],\n",
       " [array(['Haiti', 'Spirits', '27.38'], dtype='<U32')],\n",
       " [array(['Zambia', 'Other', '10.229999999999999'], dtype='<U32')],\n",
       " [array(['Pakistan', 'Other', '0.05'], dtype='<U32'),\n",
       "  array(['Pakistan', 'Beer', '0.05'], dtype='<U32')],\n",
       " [array(['Malaysia', 'Beer', '2.45'], dtype='<U32')],\n",
       " [array(['Nepal', 'Beer', '0.09'], dtype='<U32')],\n",
       " [array(['Bhutan', 'Beer', '2.24'], dtype='<U32')],\n",
       " [array(['Hungary', 'Spirits', '32.510000000000005'], dtype='<U32')],\n",
       " [array(['Swaziland', 'Other', '24.21'], dtype='<U32')],\n",
       " [array(['Antigua and Barbuda', 'Spirits', '9.34'], dtype='<U32')],\n",
       " [array(['Honduras', 'Beer', '5.18'], dtype='<U32')],\n",
       " [array(['Canada', 'Beer', '24.46'], dtype='<U32')],\n",
       " [array(['Dominican Republic', 'Spirits', '13.2'], dtype='<U32')],\n",
       " [array(['Tunisia', 'Wine', '2.76'], dtype='<U32')],\n",
       " [array([\"Lao People's Democratic Republic\", 'Spirits',\n",
       "         '22.480000000000004'], dtype='<U32')],\n",
       " [array(['Equatorial Guinea', 'Wine', '9.190000000000001'], dtype='<U32')],\n",
       " [array(['Sao Tome and Principe', 'Wine', '6.63'], dtype='<U32')],\n",
       " [array(['Burkina Faso', 'Other', '16.33'], dtype='<U32')],\n",
       " [array(['Mongolia', 'Spirits', '12.940000000000001'], dtype='<U32')],\n",
       " [array(['Panama', 'Beer', '14.43'], dtype='<U32')],\n",
       " [array(['Nigeria', 'Other', '29.559999999999995'], dtype='<U32')],\n",
       " [array(['Sri Lanka', 'Spirits', '0.86'], dtype='<U32')],\n",
       " [array(['Slovakia', 'Beer', '34.08'], dtype='<U32')],\n",
       " [array(['Oman', 'Spirits', '1.5899999999999999'], dtype='<U32')],\n",
       " [array(['Micronesia (Federated States of)', 'Other', '0.0'], dtype='<U32'),\n",
       "  array(['Micronesia (Federated States of)', 'Beer', '0.0'], dtype='<U32'),\n",
       "  array(['Micronesia (Federated States of)', 'Spirits', '0.0'], dtype='<U32'),\n",
       "  array(['Micronesia (Federated States of)', 'Wine', '0.0'], dtype='<U32')]]"
      ]
     },
     "execution_count": 59,
     "metadata": {},
     "output_type": "execute_result"
    }
   ],
   "source": [
    "list_of_popular_alcohol = []\n",
    "for country in country_set:\n",
    "    bool_val = data[:, 2] == country\n",
    "    datas_of_country = data[bool_val, :]\n",
    "    holder = np.array([])\n",
    "    max_val = 0\n",
    "    for kinds in kinds_set:\n",
    "        bool_val = datas_of_country[:, 3] == kinds\n",
    "        elements = datas_of_country[bool_val, :]\n",
    "        display_sum = elements[:,4].astype(float).sum() \n",
    "        holder = np.append(holder, [country, kinds, display_sum])\n",
    "        \n",
    "        if display_sum > max_val:\n",
    "            max_val = display_sum\n",
    "    holder = holder.reshape(4,3)\n",
    "    bool_val = holder[:,2].astype(float) == max_val\n",
    "    element = holder[bool_val, :]\n",
    "    list_of_popular_alcohol.append(element)\n",
    "    \n",
    "\n",
    "list_of_popular_alcohol"
   ]
  }
 ],
 "metadata": {
  "kernelspec": {
   "display_name": "Python 3",
   "language": "python",
   "name": "python3"
  },
  "language_info": {
   "codemirror_mode": {
    "name": "ipython",
    "version": 3
   },
   "file_extension": ".py",
   "mimetype": "text/x-python",
   "name": "python",
   "nbconvert_exporter": "python",
   "pygments_lexer": "ipython3",
   "version": "3.6.4"
  }
 },
 "nbformat": 4,
 "nbformat_minor": 2
}
